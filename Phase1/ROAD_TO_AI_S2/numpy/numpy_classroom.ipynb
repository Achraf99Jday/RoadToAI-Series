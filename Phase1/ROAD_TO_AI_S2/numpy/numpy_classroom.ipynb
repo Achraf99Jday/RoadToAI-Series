{
 "cells": [
  {
   "cell_type": "markdown",
   "metadata": {},
   "source": [
    "<!DOCTYPE html>\n",
    "<html>\n",
    "<body>\n",
    "<div align=\"center\">\n",
    "<h1>Road to AI Session 2</h1>\n",
    "    \n",
    "<h3>Database,Graphs & Maths</h3>\n",
    "<h4>NUMPY</h4>\n",
    "</div>\n",
    "</body>\n",
    "</html>"
   ]
  },
  {
   "cell_type": "code",
   "execution_count": null,
   "metadata": {},
   "outputs": [],
   "source": [
    "# Import Numpy Library\n",
    "import numpy as np\n",
    "print(np.__version__)"
   ]
  },
  {
   "cell_type": "markdown",
   "metadata": {},
   "source": [
    "## Array Creation"
   ]
  },
  {
   "cell_type": "code",
   "execution_count": null,
   "metadata": {},
   "outputs": [],
   "source": [
    "list_1 = [10,20,30,40,50,60,70,80,90,100]\n",
    "list_1"
   ]
  },
  {
   "cell_type": "code",
   "execution_count": null,
   "metadata": {},
   "outputs": [],
   "source": [
    "# Display the type of an object\n",
    "type(list_1)"
   ]
  },
  {
   "cell_type": "code",
   "execution_count": null,
   "metadata": {},
   "outputs": [],
   "source": [
    "#Convert list to Numpy Array\n",
    "arr_1 = np.array(list_1)\n",
    "arr_1"
   ]
  },
  {
   "cell_type": "code",
   "execution_count": null,
   "metadata": {},
   "outputs": [],
   "source": [
    "#Memory address of an array object\n",
    "arr_1.data"
   ]
  },
  {
   "cell_type": "code",
   "execution_count": null,
   "metadata": {},
   "outputs": [],
   "source": [
    "# Display type of an object\n",
    "type(arr_1)"
   ]
  },
  {
   "cell_type": "code",
   "execution_count": null,
   "metadata": {},
   "outputs": [],
   "source": [
    "#Datatype of array\n",
    "arr_1.dtype"
   ]
  },
  {
   "cell_type": "code",
   "execution_count": null,
   "metadata": {},
   "outputs": [],
   "source": [
    "# Convert Integer Array to FLOAT\n",
    "arr_1.astype(float)"
   ]
  },
  {
   "cell_type": "markdown",
   "metadata": {},
   "source": [
    "## ===================================================="
   ]
  },
  {
   "cell_type": "code",
   "execution_count": null,
   "metadata": {},
   "outputs": [],
   "source": [
    "# Generate evenly spaced numbers (space =1) between 0 to 10\n",
    "np.arange(0,10)"
   ]
  },
  {
   "cell_type": "code",
   "execution_count": null,
   "metadata": {},
   "outputs": [],
   "source": [
    "# Generate numbers between 0 to 100 with a space of 10\n",
    "np.arange(0,100,10)"
   ]
  },
  {
   "cell_type": "code",
   "execution_count": null,
   "metadata": {},
   "outputs": [],
   "source": [
    "# Generate numbers between 10 to 100 with a space of 10 in descending order\n",
    "np.arange(100, 10, -10)"
   ]
  },
  {
   "cell_type": "code",
   "execution_count": null,
   "metadata": {},
   "outputs": [],
   "source": [
    "#Shape of Array\n",
    "arr_3 = np.arange(0,10)\n",
    "arr_3.shape"
   ]
  },
  {
   "cell_type": "code",
   "execution_count": null,
   "metadata": {},
   "outputs": [],
   "source": [
    "arr_3"
   ]
  },
  {
   "cell_type": "code",
   "execution_count": null,
   "metadata": {},
   "outputs": [],
   "source": [
    "# Size of array\n",
    "arr_3.size"
   ]
  },
  {
   "cell_type": "code",
   "execution_count": null,
   "metadata": {},
   "outputs": [],
   "source": [
    "# Dimension \n",
    "arr_3.ndim"
   ]
  },
  {
   "cell_type": "code",
   "execution_count": null,
   "metadata": {},
   "outputs": [],
   "source": [
    "# Datatype of object\n",
    "arr_3.dtype"
   ]
  },
  {
   "cell_type": "code",
   "execution_count": null,
   "metadata": {},
   "outputs": [],
   "source": [
    "# Bytes consumed by one element of an array object\n",
    "arr_3.itemsize"
   ]
  },
  {
   "cell_type": "code",
   "execution_count": null,
   "metadata": {},
   "outputs": [],
   "source": [
    "# Length of array\n",
    "len(arr_3)"
   ]
  },
  {
   "cell_type": "code",
   "execution_count": null,
   "metadata": {},
   "outputs": [],
   "source": [
    "# Generate an array of zeros\n",
    "np.zeros(10)"
   ]
  },
  {
   "cell_type": "code",
   "execution_count": null,
   "metadata": {},
   "outputs": [],
   "source": [
    "# Generate an array of ones with given shape\n",
    "np.ones(10)"
   ]
  },
  {
   "cell_type": "code",
   "execution_count": null,
   "metadata": {},
   "outputs": [],
   "source": [
    "# Repeat 10 five times in an array\n",
    "np.repeat(10,5)"
   ]
  },
  {
   "cell_type": "code",
   "execution_count": null,
   "metadata": {},
   "outputs": [],
   "source": [
    "# Repeat each element in array 'a' thrice\n",
    "a= np.array([10,20,30])\n",
    "np.repeat(a,3)"
   ]
  },
  {
   "cell_type": "code",
   "execution_count": null,
   "metadata": {},
   "outputs": [],
   "source": [
    "# Array of 10's\n",
    "np.full(5,10)"
   ]
  },
  {
   "cell_type": "code",
   "execution_count": null,
   "metadata": {},
   "outputs": [],
   "source": [
    "# Generate array of Odd numbers\n",
    "arr_2 = np.arange(1,20)\n",
    "arr_2[arr_2%2 ==1]"
   ]
  },
  {
   "cell_type": "code",
   "execution_count": null,
   "metadata": {},
   "outputs": [],
   "source": [
    "# Generate array of even numbers\n",
    "arr_2 = np.arange(1,20)\n",
    "arr_2[arr_2%2 == 0]"
   ]
  },
  {
   "cell_type": "code",
   "execution_count": null,
   "metadata": {},
   "outputs": [],
   "source": [
    "# Generate evenly spaced 4 numbers between 10 to 20.\n",
    "np.linspace(10,20,4)"
   ]
  },
  {
   "cell_type": "code",
   "execution_count": null,
   "metadata": {},
   "outputs": [],
   "source": [
    "# Create an array of random values\n",
    "np.random.random(4)"
   ]
  },
  {
   "cell_type": "code",
   "execution_count": null,
   "metadata": {},
   "outputs": [],
   "source": [
    "# Generate an array of Random Integer numbers\n",
    "np.random.randint(0,500,5)"
   ]
  },
  {
   "cell_type": "code",
   "execution_count": null,
   "metadata": {},
   "outputs": [],
   "source": [
    "# Generate array of Random float numbers\n",
    "f_1 = np.random.uniform(5,10, size=(10))\n",
    "f_1"
   ]
  },
  {
   "cell_type": "code",
   "execution_count": null,
   "metadata": {},
   "outputs": [],
   "source": [
    "# Extract Integer part\n",
    "np.floor(f_1)"
   ]
  },
  {
   "cell_type": "markdown",
   "metadata": {},
   "source": [
    "# Operations on an Array"
   ]
  },
  {
   "cell_type": "code",
   "execution_count": null,
   "metadata": {},
   "outputs": [],
   "source": [
    "arr2 = np.arange(1,20)\n",
    "arr2"
   ]
  },
  {
   "cell_type": "code",
   "execution_count": null,
   "metadata": {},
   "outputs": [],
   "source": [
    "# Sum of all elements in an array\n",
    "arr2.sum()"
   ]
  },
  {
   "cell_type": "code",
   "execution_count": null,
   "metadata": {},
   "outputs": [],
   "source": [
    "# Cumulative Sum\n",
    "np.cumsum(arr2)"
   ]
  },
  {
   "cell_type": "code",
   "execution_count": null,
   "metadata": {},
   "outputs": [],
   "source": [
    "# Find Minimum number in an array\n",
    "arr2.min()"
   ]
  },
  {
   "cell_type": "code",
   "execution_count": null,
   "metadata": {},
   "outputs": [],
   "source": [
    "# Find MAX number in an array\n",
    "arr2.max()"
   ]
  },
  {
   "cell_type": "code",
   "execution_count": null,
   "metadata": {},
   "outputs": [],
   "source": [
    "# Find INDEX of Minimum number in an array\n",
    "arr2.argmin()"
   ]
  },
  {
   "cell_type": "code",
   "execution_count": null,
   "metadata": {},
   "outputs": [],
   "source": [
    "# Find INDEX of MAX number in an array\n",
    "arr2.argmax()"
   ]
  },
  {
   "cell_type": "code",
   "execution_count": null,
   "metadata": {},
   "outputs": [],
   "source": [
    "# Find mean of all numbers in an array\n",
    "arr2.mean()"
   ]
  },
  {
   "cell_type": "code",
   "execution_count": null,
   "metadata": {},
   "outputs": [],
   "source": [
    "# Find median of all numbers present in arr2\n",
    "np.median(arr2)"
   ]
  },
  {
   "cell_type": "code",
   "execution_count": null,
   "metadata": {},
   "outputs": [],
   "source": [
    "# Variance\n",
    "np.var(arr2)"
   ]
  },
  {
   "cell_type": "code",
   "execution_count": null,
   "metadata": {},
   "outputs": [],
   "source": [
    "# Standard deviation\n",
    "np.std(arr2)"
   ]
  },
  {
   "cell_type": "code",
   "execution_count": null,
   "metadata": {},
   "outputs": [],
   "source": [
    "# Calculating percentiles\n",
    "np.percentile(arr2,70)"
   ]
  },
  {
   "cell_type": "code",
   "execution_count": null,
   "metadata": {},
   "outputs": [],
   "source": [
    "# 10th & 70th percentile\n",
    "np.percentile(arr2,[10,70])"
   ]
  },
  {
   "cell_type": "markdown",
   "metadata": {},
   "source": [
    "# Operations on a 2D Array"
   ]
  },
  {
   "cell_type": "code",
   "execution_count": null,
   "metadata": {},
   "outputs": [],
   "source": [
    "A = np.array([ [10 , 11 , 1 ,13] , [5,6,7,22] ,[1,2,3,0] , [14,15,16,3]])\n",
    "A"
   ]
  },
  {
   "cell_type": "code",
   "execution_count": null,
   "metadata": {},
   "outputs": [],
   "source": [
    "# SUM of all numbers in a 2D array\n",
    "A.sum()"
   ]
  },
  {
   "cell_type": "code",
   "execution_count": null,
   "metadata": {},
   "outputs": [],
   "source": [
    "# MAX number in a 2D array\n",
    "A.max()"
   ]
  },
  {
   "cell_type": "code",
   "execution_count": null,
   "metadata": {},
   "outputs": [],
   "source": [
    "# Minimum\n",
    "A.min()"
   ]
  },
  {
   "cell_type": "code",
   "execution_count": null,
   "metadata": {},
   "outputs": [],
   "source": [
    "# Column wise mimimum value \n",
    "np.amin(A, axis=0)"
   ]
  },
  {
   "cell_type": "code",
   "execution_count": null,
   "metadata": {},
   "outputs": [],
   "source": [
    "# Row wise mimimum value \n",
    "np.amin(A, axis=1)"
   ]
  },
  {
   "cell_type": "code",
   "execution_count": null,
   "metadata": {},
   "outputs": [],
   "source": [
    "# Mean of all numbers in a 2D array\n",
    "A.mean()"
   ]
  },
  {
   "cell_type": "code",
   "execution_count": null,
   "metadata": {},
   "outputs": [],
   "source": [
    "# Mean\n",
    "np.mean(A)"
   ]
  },
  {
   "cell_type": "code",
   "execution_count": null,
   "metadata": {},
   "outputs": [],
   "source": [
    "# Median\n",
    "np.median(A)"
   ]
  },
  {
   "cell_type": "code",
   "execution_count": null,
   "metadata": {},
   "outputs": [],
   "source": [
    "# 50 percentile = Median\n",
    "np.percentile(A,50)"
   ]
  },
  {
   "cell_type": "code",
   "execution_count": null,
   "metadata": {},
   "outputs": [],
   "source": [
    "np.var(A)"
   ]
  },
  {
   "cell_type": "code",
   "execution_count": null,
   "metadata": {},
   "outputs": [],
   "source": [
    "np.std(A)"
   ]
  },
  {
   "cell_type": "code",
   "execution_count": null,
   "metadata": {},
   "outputs": [],
   "source": [
    "np.percentile(arr2,70)"
   ]
  },
  {
   "cell_type": "markdown",
   "metadata": {},
   "source": [
    "# Reading elements of an array"
   ]
  },
  {
   "cell_type": "code",
   "execution_count": null,
   "metadata": {},
   "outputs": [],
   "source": [
    "a = np.array([44,66,45,34,65,67,87,98,56])"
   ]
  },
  {
   "cell_type": "code",
   "execution_count": null,
   "metadata": {},
   "outputs": [],
   "source": [
    "# Access first element of the array\n",
    "a[0]"
   ]
  },
  {
   "cell_type": "code",
   "execution_count": null,
   "metadata": {},
   "outputs": [],
   "source": [
    "# Access all elements of Array except first one.\n",
    "a[1:]"
   ]
  },
  {
   "cell_type": "code",
   "execution_count": null,
   "metadata": {},
   "outputs": [],
   "source": [
    "# Fetch 2nd , 3rd & 4th value from the Array\n",
    "a[1:4]"
   ]
  },
  {
   "cell_type": "code",
   "execution_count": null,
   "metadata": {},
   "outputs": [],
   "source": [
    "# Get last element of the array\n",
    "a[-1]"
   ]
  },
  {
   "cell_type": "code",
   "execution_count": null,
   "metadata": {},
   "outputs": [],
   "source": [
    "a[-3]"
   ]
  },
  {
   "cell_type": "markdown",
   "metadata": {},
   "source": [
    "# Missing Values in an array"
   ]
  },
  {
   "cell_type": "code",
   "execution_count": null,
   "metadata": {},
   "outputs": [],
   "source": [
    "a = np.array([10 ,np.nan,20,30,60,np.nan,90,np.inf])\n",
    "a"
   ]
  },
  {
   "cell_type": "code",
   "execution_count": null,
   "metadata": {},
   "outputs": [],
   "source": [
    "# Search for missing values and return as a boolean array\n",
    "np.isnan(a)"
   ]
  },
  {
   "cell_type": "code",
   "execution_count": null,
   "metadata": {},
   "outputs": [],
   "source": [
    "# Index of missing values in an array\n",
    "np.where(np.isnan(a))"
   ]
  },
  {
   "cell_type": "code",
   "execution_count": null,
   "metadata": {},
   "outputs": [],
   "source": [
    "# Replace all missing values with 99\n",
    "a[np.isnan(a)] = 99\n",
    "a"
   ]
  },
  {
   "cell_type": "code",
   "execution_count": null,
   "metadata": {},
   "outputs": [],
   "source": [
    "# Check if array has any NULL value\n",
    "np.isnan(a).any()"
   ]
  },
  {
   "cell_type": "code",
   "execution_count": null,
   "metadata": {},
   "outputs": [],
   "source": [
    "A = np.array([[1,2,np.nan,4] , [np.nan,6,7,8] , [10 , np.nan , 12 ,13] , [14,15,16,17]])\n",
    "A"
   ]
  },
  {
   "cell_type": "code",
   "execution_count": null,
   "metadata": {},
   "outputs": [],
   "source": [
    "# Search for missing values and return as a boolean array\n",
    "np.isnan(A)"
   ]
  },
  {
   "cell_type": "code",
   "execution_count": null,
   "metadata": {},
   "outputs": [],
   "source": [
    "# Index of missing values in an array\n",
    "np.where(np.isnan(A))"
   ]
  },
  {
   "cell_type": "markdown",
   "metadata": {},
   "source": [
    "# Common items between two Arrays"
   ]
  },
  {
   "cell_type": "code",
   "execution_count": null,
   "metadata": {},
   "outputs": [],
   "source": [
    "c1 = np.array([10,20,30,40,50,60])\n",
    "c2 = np.array([12,20,33,40,55,60])"
   ]
  },
  {
   "cell_type": "code",
   "execution_count": null,
   "metadata": {},
   "outputs": [],
   "source": [
    "np.intersect1d(c1,c2)"
   ]
  },
  {
   "cell_type": "markdown",
   "metadata": {},
   "source": [
    "# Remove Common Elements"
   ]
  },
  {
   "cell_type": "code",
   "execution_count": null,
   "metadata": {},
   "outputs": [],
   "source": [
    "# Remove common elements of C1 & C2 array from C1\n",
    "\n",
    "np.setdiff1d(c1,c2)"
   ]
  },
  {
   "cell_type": "markdown",
   "metadata": {},
   "source": [
    "# Process Elements on Conditions"
   ]
  },
  {
   "cell_type": "code",
   "execution_count": null,
   "metadata": {},
   "outputs": [],
   "source": [
    "a = np.array([1,2,3,6,8])\n",
    "b = np.array([10,2,30,60,8])\n",
    "\n",
    "np.where(a == b) # returns the indices of elements in an input array where the given condition is satisfied."
   ]
  },
  {
   "cell_type": "code",
   "execution_count": null,
   "metadata": {},
   "outputs": [],
   "source": [
    "# Return an array where condition is satisfied\n",
    "a[np.where(a == b)]"
   ]
  },
  {
   "cell_type": "code",
   "execution_count": null,
   "metadata": {},
   "outputs": [],
   "source": [
    "# Return all numbers betweeen 20 & 35\n",
    "a1 = np.arange(0,60)\n",
    "a1[np.where ((a1>20) & (a1<35))]"
   ]
  },
  {
   "cell_type": "code",
   "execution_count": null,
   "metadata": {},
   "outputs": [],
   "source": [
    "# Return all numbers betweeen 20 & 35 OR numbers divisible by 10\n",
    "a1 = np.arange(0,60)\n",
    "a1[np.where (((a1>20) & (a1<35)) | (a1 % 10 ==0)) ]"
   ]
  },
  {
   "cell_type": "code",
   "execution_count": null,
   "metadata": {},
   "outputs": [],
   "source": [
    "# Return all numbers betweeen 20 & 35 using np.logical_and\n",
    "a1[np.where(np.logical_and(a1>20, a1<35))]"
   ]
  },
  {
   "cell_type": "markdown",
   "metadata": {},
   "source": [
    "# Check for elements in an Array using isin()"
   ]
  },
  {
   "cell_type": "code",
   "execution_count": null,
   "metadata": {},
   "outputs": [],
   "source": [
    "a = np.array([10,20,30,40,50,60,70,80,90])\n",
    "a"
   ]
  },
  {
   "cell_type": "code",
   "execution_count": null,
   "metadata": {},
   "outputs": [],
   "source": [
    "# Check whether number 11 & 20 are present in an array\n",
    "np.isin(a, [11,20])"
   ]
  },
  {
   "cell_type": "code",
   "execution_count": null,
   "metadata": {},
   "outputs": [],
   "source": [
    "#Display the matching numbers\n",
    "a[np.isin(a,20)]"
   ]
  },
  {
   "cell_type": "code",
   "execution_count": null,
   "metadata": {},
   "outputs": [],
   "source": [
    "# Check whether number 33 is present in an array\n",
    "np.isin(a, 33)"
   ]
  },
  {
   "cell_type": "code",
   "execution_count": null,
   "metadata": {},
   "outputs": [],
   "source": [
    "a[np.isin(a, 33)]"
   ]
  },
  {
   "cell_type": "markdown",
   "metadata": {},
   "source": [
    "# Reverse Array"
   ]
  },
  {
   "cell_type": "code",
   "execution_count": null,
   "metadata": {},
   "outputs": [],
   "source": [
    "a4 = np.arange(10,30)\n",
    "a4"
   ]
  },
  {
   "cell_type": "code",
   "execution_count": null,
   "metadata": {},
   "outputs": [],
   "source": [
    "# Reverse the array\n",
    "a4[::-1]"
   ]
  },
  {
   "cell_type": "code",
   "execution_count": null,
   "metadata": {},
   "outputs": [],
   "source": [
    "# Reverse the array\n",
    "np.flip(a4)"
   ]
  },
  {
   "cell_type": "code",
   "execution_count": null,
   "metadata": {},
   "outputs": [],
   "source": [
    "a3 = np.array([[3,2,8,1] , [70,50,10,67] , [45,25,75,15] , [12,9,77,4]])\n",
    "a3"
   ]
  },
  {
   "cell_type": "code",
   "execution_count": null,
   "metadata": {},
   "outputs": [],
   "source": [
    "# Reverse ROW positions\n",
    "a3[::-1,]"
   ]
  },
  {
   "cell_type": "code",
   "execution_count": null,
   "metadata": {},
   "outputs": [],
   "source": [
    "# Reverse COLUMN positions\n",
    "a3[:,::-1]"
   ]
  },
  {
   "cell_type": "code",
   "execution_count": null,
   "metadata": {},
   "outputs": [],
   "source": [
    "# Reverse both ROW & COLUMN positions\n",
    "a3[::-1,::-1]"
   ]
  },
  {
   "cell_type": "markdown",
   "metadata": {},
   "source": [
    "# Sorting Array"
   ]
  },
  {
   "cell_type": "code",
   "execution_count": null,
   "metadata": {},
   "outputs": [],
   "source": [
    "a = np.array([10,5,2,22,12,92,17,33])"
   ]
  },
  {
   "cell_type": "code",
   "execution_count": null,
   "metadata": {},
   "outputs": [],
   "source": [
    "# Sort array in ascending order\n",
    "np.sort(a)"
   ]
  },
  {
   "cell_type": "code",
   "execution_count": null,
   "metadata": {},
   "outputs": [],
   "source": [
    "a3 = np.array([[3,2,8,1] , [70,50,10,67] , [45,25,75,15]])\n",
    "a3"
   ]
  },
  {
   "cell_type": "code",
   "execution_count": null,
   "metadata": {},
   "outputs": [],
   "source": [
    "# Sort along rows\n",
    "np.sort(a3)"
   ]
  },
  {
   "cell_type": "code",
   "execution_count": null,
   "metadata": {},
   "outputs": [],
   "source": [
    "# Sort along rows\n",
    "np.sort(a3,axis =1)"
   ]
  },
  {
   "cell_type": "code",
   "execution_count": null,
   "metadata": {},
   "outputs": [],
   "source": [
    "# Sort along columns\n",
    "np.sort(a3,axis =0)"
   ]
  },
  {
   "cell_type": "code",
   "execution_count": null,
   "metadata": {},
   "outputs": [],
   "source": [
    "# Sort in descending order\n",
    "b = np.sort(a)\n",
    "b = b[::-1]\n",
    "b"
   ]
  },
  {
   "cell_type": "code",
   "execution_count": null,
   "metadata": {},
   "outputs": [],
   "source": [
    "# Sort in descending order\n",
    "c = np.sort(a)\n",
    "np.flip(c)"
   ]
  },
  {
   "cell_type": "markdown",
   "metadata": {},
   "source": [
    "# \"N\" Largest & Smallest Numbers in an Array"
   ]
  },
  {
   "cell_type": "code",
   "execution_count": null,
   "metadata": {},
   "outputs": [],
   "source": [
    "p = np.arange(0,50)\n",
    "p"
   ]
  },
  {
   "cell_type": "code",
   "execution_count": null,
   "metadata": {},
   "outputs": [],
   "source": [
    "np.random.shuffle(p)\n",
    "p"
   ]
  },
  {
   "cell_type": "code",
   "execution_count": null,
   "metadata": {},
   "outputs": [],
   "source": [
    "# Return \"n\" largest numbers in an Array\n",
    "n = 4\n",
    "p[np.argsort(p)[-n:]]"
   ]
  },
  {
   "cell_type": "markdown",
   "metadata": {},
   "source": [
    "# Repeating Sequences"
   ]
  },
  {
   "cell_type": "code",
   "execution_count": null,
   "metadata": {},
   "outputs": [],
   "source": [
    "a5 = [10,20,30] \n",
    "a5"
   ]
  },
  {
   "cell_type": "code",
   "execution_count": null,
   "metadata": {},
   "outputs": [],
   "source": [
    "# Repeat each element in an array thrice\n",
    "np.repeat(a5, 3)"
   ]
  },
  {
   "cell_type": "markdown",
   "metadata": {},
   "source": [
    "# Compare Arrays"
   ]
  },
  {
   "cell_type": "code",
   "execution_count": null,
   "metadata": {},
   "outputs": [],
   "source": [
    "d1 = np.arange(0,10)\n",
    "d1"
   ]
  },
  {
   "cell_type": "code",
   "execution_count": null,
   "metadata": {},
   "outputs": [],
   "source": [
    "d2 = np.arange(0,10)\n",
    "d2"
   ]
  },
  {
   "cell_type": "code",
   "execution_count": null,
   "metadata": {},
   "outputs": [],
   "source": [
    "d3 = np.arange(10,20)\n",
    "d3"
   ]
  },
  {
   "cell_type": "code",
   "execution_count": null,
   "metadata": {},
   "outputs": [],
   "source": [
    "d4 = d1[::-1]\n",
    "d4"
   ]
  },
  {
   "cell_type": "code",
   "execution_count": null,
   "metadata": {},
   "outputs": [],
   "source": [
    "# Compare arrays using \"allclose\" function. If this function returns True then Arrays are equal\n",
    "res1 = np.allclose(d1,d2)\n",
    "res1"
   ]
  },
  {
   "cell_type": "code",
   "execution_count": null,
   "metadata": {},
   "outputs": [],
   "source": [
    "# Compare arrays using \"allclose\" function. If this function returns False then Arrays are not equal\n",
    "res2 = np.allclose(d1,d3)\n",
    "res2"
   ]
  },
  {
   "cell_type": "code",
   "execution_count": null,
   "metadata": {},
   "outputs": [],
   "source": [
    "# Compare arrays using \"allclose\" function.\n",
    "res3 = np.allclose(d1,d4)\n",
    "res3"
   ]
  },
  {
   "cell_type": "markdown",
   "metadata": {},
   "source": [
    "# Vector Addition"
   ]
  },
  {
   "cell_type": "code",
   "execution_count": null,
   "metadata": {},
   "outputs": [],
   "source": [
    "v1 = np.array([1,2])\n",
    "v2 = np.array([3,4])\n",
    "v3 = v1+v2\n",
    "v3 = np.add(v1,v2)\n",
    "print('V3 =' ,v3)"
   ]
  },
  {
   "cell_type": "markdown",
   "metadata": {},
   "source": [
    "# Multiplication of vectors"
   ]
  },
  {
   "cell_type": "code",
   "execution_count": null,
   "metadata": {},
   "outputs": [],
   "source": [
    "a1 = [5 , 6 ,8]\n",
    "a2 = [4, 7 , 9]\n",
    "print(np.multiply(a1,a2))"
   ]
  },
  {
   "cell_type": "markdown",
   "metadata": {},
   "source": [
    "# Dot Product"
   ]
  },
  {
   "cell_type": "code",
   "execution_count": null,
   "metadata": {},
   "outputs": [],
   "source": [
    "a1 = np.array([1,2,3])\n",
    "a2 = np.array([4,5,6])\n",
    "\n",
    "dotp = a1@a2\n",
    "print(\" Dot product - \",dotp)\n",
    "\n",
    "dotp = np.dot(a1,a2)\n",
    "print(\" Dot product usign np.dot\",dotp)"
   ]
  },
  {
   "cell_type": "markdown",
   "metadata": {},
   "source": [
    "# Inner & outer products"
   ]
  },
  {
   "cell_type": "code",
   "execution_count": null,
   "metadata": {},
   "outputs": [],
   "source": [
    "v1 = np.array([1,2,3])\n",
    "v2 = np.array([4,5,6])\n",
    "np.inner(v1,v2)\n",
    "\n",
    "print(\"\\n Inner Product ==> \", np.inner(v1,v2))\n",
    "print(\"\\n Outer Product ==> \\n\", np.outer(v1,v2))"
   ]
  },
  {
   "cell_type": "markdown",
   "metadata": {},
   "source": [
    "# Matrix Creation"
   ]
  },
  {
   "cell_type": "code",
   "execution_count": null,
   "metadata": {},
   "outputs": [],
   "source": [
    "# Create a 4x4 matrix\n",
    "A = np.array([[1,2,3,4] , [5,6,7,8] , [10 , 11 , 12 ,13] , [14,15,16,17]])\n",
    "A"
   ]
  },
  {
   "cell_type": "code",
   "execution_count": null,
   "metadata": {},
   "outputs": [],
   "source": [
    "# Datatype of Matrix\n",
    "A.dtype"
   ]
  },
  {
   "cell_type": "code",
   "execution_count": null,
   "metadata": {},
   "outputs": [],
   "source": [
    "B = np.array([[1.5,2.07,3,4] , [5,6,7,8] , [10 , 11 , 12 ,13] , [14,15,16,17]])\n",
    "B"
   ]
  },
  {
   "cell_type": "code",
   "execution_count": null,
   "metadata": {},
   "outputs": [],
   "source": [
    "# Datatype of Matrix\n",
    "B.dtype"
   ]
  },
  {
   "cell_type": "code",
   "execution_count": null,
   "metadata": {},
   "outputs": [],
   "source": [
    "# Shape of Matrix\n",
    "A.shape"
   ]
  },
  {
   "cell_type": "code",
   "execution_count": null,
   "metadata": {},
   "outputs": [],
   "source": [
    "# Generate a 4x4 zero matrix\n",
    "np.zeros((4,4))"
   ]
  },
  {
   "cell_type": "code",
   "execution_count": null,
   "metadata": {},
   "outputs": [],
   "source": [
    "#Shape of Matrix\n",
    "z1 = np.zeros((4,4))\n",
    "z1.shape"
   ]
  },
  {
   "cell_type": "code",
   "execution_count": null,
   "metadata": {},
   "outputs": [],
   "source": [
    "# Generate a 5x5 matrix filled with ones\n",
    "np.ones((5,5))"
   ]
  },
  {
   "cell_type": "code",
   "execution_count": null,
   "metadata": {},
   "outputs": [],
   "source": [
    "# Return 10x10 matrix of random integer numbers between 0 to 500\n",
    "np.random.randint(0,500, (10,10))"
   ]
  },
  {
   "cell_type": "code",
   "execution_count": null,
   "metadata": {},
   "outputs": [],
   "source": [
    "# Identity Matrix : https://en.wikipedia.org/wiki/Identity_matrix\n",
    "I = np.eye(9)\n",
    "I"
   ]
  },
  {
   "cell_type": "code",
   "execution_count": null,
   "metadata": {},
   "outputs": [],
   "source": [
    "# Diagonal Matrix : https://en.wikipedia.org/wiki/Diagonal_matrix\n",
    "\n",
    "D = np.diag([1,2,3,4,5,6,7,8])\n",
    "D"
   ]
  },
  {
   "cell_type": "code",
   "execution_count": null,
   "metadata": {},
   "outputs": [],
   "source": [
    "# Traingular Matrices (lower & Upper triangular matrix) : https://en.wikipedia.org/wiki/Triangular_matrix\n",
    "\n",
    "M = np.random.randn(5,5)\n",
    "U = np.triu(M)\n",
    "L = np.tril(M)\n",
    "print(\"lower triangular matrix - \\n\" , M)\n",
    "print(\"\\n\")\n",
    "\n",
    "\n",
    "print(\"lower triangular matrix - \\n\" , L)\n",
    "print(\"\\n\")\n",
    "\n",
    "print(\"Upper triangular matrix - \\n\" , U)\n"
   ]
  },
  {
   "cell_type": "code",
   "execution_count": null,
   "metadata": {},
   "outputs": [],
   "source": [
    "# Generate a 5X5 matrix with a given fill value of 8\n",
    "np.full((5,5) , 8)"
   ]
  },
  {
   "cell_type": "code",
   "execution_count": null,
   "metadata": {},
   "outputs": [],
   "source": [
    "# Generate 5X5 matrix of Random float numbers between 10 to 20\n",
    "np.random.uniform(10,20, size=(5,5))"
   ]
  },
  {
   "cell_type": "code",
   "execution_count": null,
   "metadata": {},
   "outputs": [],
   "source": [
    "A"
   ]
  },
  {
   "cell_type": "code",
   "execution_count": null,
   "metadata": {},
   "outputs": [],
   "source": [
    "# Collapse Matrix into one dimension array\n",
    "A.flatten()"
   ]
  },
  {
   "cell_type": "markdown",
   "metadata": {},
   "source": [
    "# Reading elements of a Matrix"
   ]
  },
  {
   "cell_type": "code",
   "execution_count": null,
   "metadata": {},
   "outputs": [],
   "source": [
    "A"
   ]
  },
  {
   "cell_type": "code",
   "execution_count": null,
   "metadata": {},
   "outputs": [],
   "source": [
    "# Fetch first row of matrix\n",
    "A[0,]"
   ]
  },
  {
   "cell_type": "code",
   "execution_count": null,
   "metadata": {},
   "outputs": [],
   "source": [
    "# Fetch first column of matrix\n",
    "A[:,0]"
   ]
  },
  {
   "cell_type": "code",
   "execution_count": null,
   "metadata": {},
   "outputs": [],
   "source": [
    "# Fetch first element of the matrix\n",
    "A[0,0]"
   ]
  },
  {
   "cell_type": "code",
   "execution_count": null,
   "metadata": {},
   "outputs": [],
   "source": [
    "A[1:3 , 1:3]"
   ]
  },
  {
   "cell_type": "markdown",
   "metadata": {},
   "source": [
    "# SWAP Rows & Columns"
   ]
  },
  {
   "cell_type": "code",
   "execution_count": null,
   "metadata": {},
   "outputs": [],
   "source": [
    "m1 = np.arange(0,16).reshape(4,4)\n",
    "m1"
   ]
  },
  {
   "cell_type": "code",
   "execution_count": null,
   "metadata": {},
   "outputs": [],
   "source": [
    "# SWAP rows 0 & 1\n",
    "m1[[0,1],:] = m1[[1,0],:]\n",
    "m1"
   ]
  },
  {
   "cell_type": "code",
   "execution_count": null,
   "metadata": {},
   "outputs": [],
   "source": [
    "# SWAP rows 2 & 3\n",
    "m1[[3,2],:] = m1[[2,3],:]\n",
    "m1"
   ]
  },
  {
   "cell_type": "code",
   "execution_count": null,
   "metadata": {},
   "outputs": [],
   "source": [
    "m2 = np.arange(0,36).reshape(6,6)\n",
    "m2"
   ]
  },
  {
   "cell_type": "code",
   "execution_count": null,
   "metadata": {},
   "outputs": [],
   "source": [
    "# Swap columns 0 & 1\n",
    "m2[:,[0, 1]] = m2[:,[1, 0]]\n",
    "m2"
   ]
  },
  {
   "cell_type": "code",
   "execution_count": null,
   "metadata": {},
   "outputs": [],
   "source": [
    "# Swap columns 2 & 3\n",
    "m2[:,[2, 3]] = m2[:,[3, 2]]\n",
    "m2"
   ]
  },
  {
   "cell_type": "markdown",
   "metadata": {},
   "source": [
    "# Concatenate Matrices"
   ]
  },
  {
   "cell_type": "code",
   "execution_count": null,
   "metadata": {},
   "outputs": [],
   "source": [
    "A = np.array([[1,2] , [3,4] ,[5,6]])\n",
    "B = np.array([[1,1] , [1,1]])\n",
    "C = np.concatenate((A,B))\n",
    "C"
   ]
  },
  {
   "cell_type": "markdown",
   "metadata": {},
   "source": [
    "# Matrix Addition"
   ]
  },
  {
   "cell_type": "code",
   "execution_count": null,
   "metadata": {},
   "outputs": [],
   "source": [
    "M = np.array([[1,2,3],[4,-3,6],[7,8,0]])\n",
    "N = np.array([[1,1,1],[2,2,2],[3,3,3]])\n",
    "\n",
    "print(\"\\n First Matrix (M)  ==>  \\n\", M)\n",
    "print(\"\\n Second Matrix (N)  ==>  \\n\", N)\n",
    "\n",
    "C = M+N\n",
    "print(\"\\n Matrix Addition (M+N)  ==>  \\n\", C)\n",
    "\n",
    "# OR\n",
    "\n",
    "C = np.add(M,N,dtype = np.float64)\n",
    "print(\"\\n Matrix Addition using np.add  ==>  \\n\", C)"
   ]
  },
  {
   "cell_type": "markdown",
   "metadata": {},
   "source": [
    "# Matrix subtraction"
   ]
  },
  {
   "cell_type": "code",
   "execution_count": null,
   "metadata": {},
   "outputs": [],
   "source": [
    "M = np.array([[1,2,3],[4,-3,6],[7,8,0]])\n",
    "N = np.array([[1,1,1],[2,2,2],[3,3,3]])\n",
    "\n",
    "print(\"\\n First Matrix (M)  ==>  \\n\", M)\n",
    "print(\"\\n Second Matrix (N)  ==>  \\n\", N)\n",
    "\n",
    "C = M-N\n",
    "print(\"\\n Matrix Subtraction (M-N)  ==>  \\n\", C)\n",
    "\n",
    "# OR\n",
    "\n",
    "C = np.subtract(M,N,dtype = np.float64)\n",
    "print(\"\\n Matrix Subtraction using np.subtract  ==>  \\n\", C)"
   ]
  },
  {
   "cell_type": "markdown",
   "metadata": {},
   "source": [
    "# Matrices Scalar Multiplication"
   ]
  },
  {
   "cell_type": "code",
   "execution_count": null,
   "metadata": {},
   "outputs": [],
   "source": [
    "M = np.array([[1,2,3],[4,-3,6],[7,8,0]])\n",
    "\n",
    "C = 10\n",
    "\n",
    "print(\"\\n Matrix (M)  ==>  \\n\", M)\n",
    "\n",
    "print(\"\\nMatrices Scalar Multiplication ==>  \\n\", C*M)\n",
    "\n",
    "# OR\n",
    "\n",
    "print(\"\\nMatrices Scalar Multiplication ==>  \\n\", np.multiply(C,M))"
   ]
  },
  {
   "cell_type": "markdown",
   "metadata": {},
   "source": [
    "# Transpose of a matrix\n"
   ]
  },
  {
   "cell_type": "code",
   "execution_count": null,
   "metadata": {},
   "outputs": [],
   "source": [
    "M = np.array([[1,2,3],[4,-3,6],[7,8,0]])\n",
    "\n",
    "print(\"\\n Matrix (M)  ==>  \\n\", M)\n",
    "\n",
    "print(\"\\nTranspose of M ==>  \\n\", np.transpose(M))\n",
    "\n",
    "# OR\n",
    "\n",
    "print(\"\\nTranspose of M ==>  \\n\", M.T)"
   ]
  },
  {
   "cell_type": "markdown",
   "metadata": {},
   "source": [
    "# Determinant of a matrix\n"
   ]
  },
  {
   "cell_type": "code",
   "execution_count": null,
   "metadata": {},
   "outputs": [],
   "source": [
    "M = np.array([[1,2,3],[4,-3,6],[7,8,0]])\n",
    "\n",
    "print(\"\\n Matrix (M)  ==>  \\n\", M)\n",
    "\n",
    "print(\"\\nDeterminant of M ==>  \", np.linalg.det(M))"
   ]
  },
  {
   "cell_type": "markdown",
   "metadata": {},
   "source": [
    "# Rank of a matrix"
   ]
  },
  {
   "cell_type": "code",
   "execution_count": null,
   "metadata": {},
   "outputs": [],
   "source": [
    "M = np.array([[1,2,3],[4,-3,6],[7,8,0]])\n",
    "\n",
    "print(\"\\n Matrix (M)  ==>  \\n\", M)\n",
    "\n",
    "print(\"\\nRank of M ==> \", np.linalg.matrix_rank(M))"
   ]
  },
  {
   "cell_type": "markdown",
   "metadata": {},
   "source": [
    "# Trace of matrix"
   ]
  },
  {
   "cell_type": "code",
   "execution_count": null,
   "metadata": {},
   "outputs": [],
   "source": [
    "M = np.array([[1,2,3],[4,-3,6],[7,8,0]])\n",
    "\n",
    "print(\"\\n Matrix (M)  ==>  \\n\", M)\n",
    "\n",
    "print(\"\\nTrace of M ==> \", np.trace(M))"
   ]
  },
  {
   "cell_type": "markdown",
   "metadata": {},
   "source": [
    "# Inverse of matrix A\n"
   ]
  },
  {
   "cell_type": "code",
   "execution_count": null,
   "metadata": {},
   "outputs": [],
   "source": [
    "M = np.array([[1,2,3],[4,-3,6],[7,8,0]])\n",
    "\n",
    "print(\"\\n Matrix (M)  ==>  \\n\", M)\n",
    "\n",
    "print(\"\\nInverse of M ==> \\n\", np.linalg.inv(M))"
   ]
  },
  {
   "cell_type": "markdown",
   "metadata": {},
   "source": [
    "# Matrix Multiplication (pointwise multiplication)"
   ]
  },
  {
   "cell_type": "code",
   "execution_count": null,
   "metadata": {},
   "outputs": [],
   "source": [
    "M = np.array([[1,2,3],[4,-3,6],[7,8,0]])\n",
    "N = np.array([[1,1,1],[2,2,2],[3,3,3]])\n",
    "\n",
    "print(\"\\n First Matrix (M)  ==>  \\n\", M)\n",
    "print(\"\\n Second Matrix (N)  ==>  \\n\", N)\n",
    "\n",
    "print(\"\\n Point-Wise Multiplication of M & N  ==> \\n\", M*N)\n",
    "\n",
    "# OR\n",
    "\n",
    "print(\"\\n Point-Wise Multiplication of M & N  ==> \\n\", np.multiply(M,N))"
   ]
  },
  {
   "cell_type": "markdown",
   "metadata": {},
   "source": [
    "# Matrix dot product"
   ]
  },
  {
   "cell_type": "code",
   "execution_count": null,
   "metadata": {},
   "outputs": [],
   "source": [
    "M = np.array([[1,2,3],[4,-3,6],[7,8,0]])\n",
    "N = np.array([[1,1,1],[2,2,2],[3,3,3]])\n",
    "\n",
    "print(\"\\n First Matrix (M)  ==>  \\n\", M)\n",
    "print(\"\\n Second Matrix (N)  ==>  \\n\", N)\n",
    "\n",
    "print(\"\\n Matrix Dot Product ==> \\n\", M@N)\n",
    "\n",
    "# OR\n",
    "\n",
    "print(\"\\n Matrix Dot Product using np.matmul ==> \\n\", np.matmul(M,N))\n",
    "\n",
    "# OR\n",
    "\n",
    "print(\"\\n Matrix Dot Product using np.dot ==> \\n\", np.dot(M,N))"
   ]
  },
  {
   "cell_type": "markdown",
   "metadata": {},
   "source": [
    "# Matrix Division"
   ]
  },
  {
   "cell_type": "code",
   "execution_count": null,
   "metadata": {},
   "outputs": [],
   "source": [
    "M = np.array([[1,2,3],[4,-3,6],[7,8,0]])\n",
    "N = np.array([[1,1,1],[2,2,2],[3,3,3]])\n",
    "\n",
    "print(\"\\n First Matrix (M)  ==>  \\n\", M)\n",
    "print(\"\\n Second Matrix (N)  ==>  \\n\", N)\n",
    "\n",
    "\n",
    "print(\"\\n Matrix Division (M/N)   ==> \\n\", M/N)\n",
    "\n",
    "# OR\n",
    "\n",
    "print(\"\\n Matrix Division (M/N)   ==> \\n\", np.divide(M,N))"
   ]
  },
  {
   "cell_type": "markdown",
   "metadata": {},
   "source": [
    "# Sum of all elements in a matrix"
   ]
  },
  {
   "cell_type": "code",
   "execution_count": null,
   "metadata": {},
   "outputs": [],
   "source": [
    "N = np.array([[1,1,1],[2,2,2],[3,3,3]])\n",
    "\n",
    "print(\"\\n Matrix (N)  ==>  \\n\", N)\n",
    "\n",
    "\n",
    "print (\"Sum of all elements in a Matrix  ==>\")\n",
    "print (np.sum(N))"
   ]
  },
  {
   "cell_type": "markdown",
   "metadata": {},
   "source": [
    "# Column-Wise Addition"
   ]
  },
  {
   "cell_type": "code",
   "execution_count": null,
   "metadata": {},
   "outputs": [],
   "source": [
    "N = np.array([[1,1,1],[2,2,2],[3,3,3]])\n",
    "\n",
    "print(\"\\n Matrix (N)  ==>  \\n\", N)\n",
    "\n",
    "print (\"Column-Wise summation ==> \")\n",
    "print (np.sum(N,axis=0))"
   ]
  },
  {
   "cell_type": "markdown",
   "metadata": {},
   "source": [
    "# Row-Wise Addition"
   ]
  },
  {
   "cell_type": "code",
   "execution_count": null,
   "metadata": {
    "scrolled": false
   },
   "outputs": [],
   "source": [
    "N = np.array([[1,1,1],[2,2,2],[3,3,3]])\n",
    "\n",
    "print(\"\\n Matrix (N)  ==>  \\n\", N)\n",
    "\n",
    "print (\"Row-Wise summation  ==>\")\n",
    "print (np.sum(N,axis=1))"
   ]
  },
  {
   "cell_type": "markdown",
   "metadata": {},
   "source": [
    "<!DOCTYPE html>\n",
    "<html>\n",
    "<body>\n",
    "<div align=\"center\">\n",
    "<h1>THE END </h1>\n",
    "    \n",
    "<h3>By Abhishek Jaiswal & Achraf Jday </h>\n",
    "</div>\n",
    "</body>\n",
    "</html>"
   ]
  },
  {
   "cell_type": "code",
   "execution_count": null,
   "metadata": {},
   "outputs": [],
   "source": []
  }
 ],
 "metadata": {
  "kernelspec": {
   "display_name": "Python 3",
   "language": "python",
   "name": "python3"
  },
  "language_info": {
   "codemirror_mode": {
    "name": "ipython",
    "version": 3
   },
   "file_extension": ".py",
   "mimetype": "text/x-python",
   "name": "python",
   "nbconvert_exporter": "python",
   "pygments_lexer": "ipython3",
   "version": "3.8.5-final"
  }
 },
 "nbformat": 4,
 "nbformat_minor": 2
}